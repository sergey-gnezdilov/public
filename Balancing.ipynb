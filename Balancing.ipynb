{
 "cells": [
  {
   "cell_type": "code",
   "execution_count": 94,
   "id": "ae433bcb-35eb-4dcb-9dab-214ef6051817",
   "metadata": {
    "tags": []
   },
   "outputs": [
    {
     "name": "stdout",
     "output_type": "stream",
     "text": [
      "[[600, 0], [500, 0], [71, 0], [53, 0], [53, 0], [51, 0], [47, 0], [45, 0], [33, 0], [21, 0], [19, 0], [15, 0], [9, 0], [8, 0], [8, 0], [8, 0], [7, 0], [7, 0], [6, 0], [6, 0], [6, 0], [6, 0], [5, 0], [5, 0], [5, 0], [5, 0], [4, 0], [4, 0], [4, 0], [4, 0], [4, 0], [4, 0], [3, 0], [3, 0], [1, 0], [1, 0], [1, 0], [1, 0], [1, 0]]\n"
     ]
    }
   ],
   "source": [
    "ar_items = ([19, 0], [1,0],[1,0],[3,0],[500,0],[5,0],[600,0],[8,0],[4,0],[6,0],[71,0],[47,0],[1,0],[3,0],[4,0],[15,0],[5,0],[51,0],[6,0],[7,0],[8,0],[9, 0],[45,0],[5,0],[1,0],[53,0],[4,0],[6,0],[7,0],[8,0],[1,0],[33,0],[4,0],[21,0],[5,0],[4,0],[6,0],[53,0],[4,0])\n",
    "ar_items=sorted(ar_items,reverse=True)\n",
    "print(ar_items)"
   ]
  },
  {
   "cell_type": "code",
   "execution_count": 96,
   "id": "5c92cf71-df91-4095-a76f-fbb00a5ec665",
   "metadata": {
    "tags": []
   },
   "outputs": [],
   "source": [
    "containers=([1,0],[2,0],[3,0],[4,0],[5,0])  #number and weight "
   ]
  },
  {
   "cell_type": "code",
   "execution_count": 98,
   "id": "61259a12-0ee0-4adf-9e7d-4aa9fb5d693a",
   "metadata": {
    "tags": []
   },
   "outputs": [
    {
     "name": "stdout",
     "output_type": "stream",
     "text": [
      "[[1, 0], [2, 0], [3, 0], [4, 0], [5, 0]]\n"
     ]
    }
   ],
   "source": [
    "containers=sorted(containers,key=lambda x: x[1])\n",
    "print(containers)"
   ]
  },
  {
   "cell_type": "code",
   "execution_count": 100,
   "id": "d7495c9d-e22e-4ab4-92e8-cebf16e70f4a",
   "metadata": {
    "tags": []
   },
   "outputs": [
    {
     "name": "stdout",
     "output_type": "stream",
     "text": [
      "[[600, 5], [500, 3], [71, 4], [53, 4], [53, 4], [51, 4], [47, 4], [45, 4], [33, 4], [21, 2], [19, 2], [15, 4], [9, 2], [8, 4], [8, 2], [8, 4], [7, 2], [7, 4], [6, 2], [6, 4], [6, 2], [6, 4], [5, 2], [5, 2], [5, 4], [5, 4], [4, 2], [4, 2], [4, 4], [4, 2], [4, 4], [4, 2], [3, 4], [3, 1], [1, 4], [1, 2], [1, 2], [1, 4], [1, 1]]\n",
      "total weight=1634\n"
     ]
    }
   ],
   "source": [
    "z=0\n",
    "sum=0\n",
    "for i in ar_items: \n",
    "    #print(i[0])\n",
    "    containers=sorted(containers,key=lambda x: x[1]) #sort by weight from smaller\n",
    "    containers[0][1]=containers[0][1] + i[0] # add item in container\n",
    "    ar_items[z][1]=containers[0][0] #assinge container\n",
    "    z=z+1\n",
    "    sum=sum + i[0]\n",
    "print(ar_items)\n",
    "print('total weight='+ str(sum))\n"
   ]
  },
  {
   "cell_type": "code",
   "execution_count": 101,
   "id": "af309399-e89c-4602-afc4-a7f31d633d69",
   "metadata": {
    "tags": []
   },
   "outputs": [
    {
     "name": "stdout",
     "output_type": "stream",
     "text": [
      "[[1, 604], [2, 604], [3, 678], [4, 604], [5, 778]]\n"
     ]
    }
   ],
   "source": [
    "containers=sorted(containers,key=lambda x: x[0])\n",
    "print(containers)"
   ]
  },
  {
   "cell_type": "code",
   "execution_count": null,
   "id": "93d9537d-3cad-455d-bb1f-45ef4ea124c6",
   "metadata": {},
   "outputs": [],
   "source": []
  }
 ],
 "metadata": {
  "kernelspec": {
   "display_name": "Python 3 (ipykernel)",
   "language": "python",
   "name": "python3"
  },
  "language_info": {
   "codemirror_mode": {
    "name": "ipython",
    "version": 3
   },
   "file_extension": ".py",
   "mimetype": "text/x-python",
   "name": "python",
   "nbconvert_exporter": "python",
   "pygments_lexer": "ipython3",
   "version": "3.10.7"
  }
 },
 "nbformat": 4,
 "nbformat_minor": 5
}
